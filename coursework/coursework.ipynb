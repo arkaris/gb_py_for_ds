{
 "cells": [
  {
   "cell_type": "code",
   "execution_count": 1,
   "metadata": {},
   "outputs": [],
   "source": [
    "import pandas as pd\n",
    "import numpy as np\n",
    "import matplotlib.pyplot as plt\n",
    "import seaborn as sns\n",
    "import warnings\n",
    "from sklearn.model_selection import train_test_split\n",
    "from sklearn.model_selection import GridSearchCV\n",
    "from sklearn.ensemble import RandomForestRegressor\n",
    "from sklearn.metrics import r2_score\n",
    "%matplotlib inline\n",
    "warnings.filterwarnings('ignore')\n",
    "plt.rcParams['figure.figsize'] = 12, 8"
   ]
  },
  {
   "cell_type": "markdown",
   "metadata": {},
   "source": [
    "# Подготовка данных"
   ]
  },
  {
   "cell_type": "markdown",
   "metadata": {},
   "source": [
    "## Загрузка данных"
   ]
  },
  {
   "cell_type": "code",
   "execution_count": 2,
   "metadata": {},
   "outputs": [],
   "source": [
    "data = pd.read_csv('train.csv')\n",
    "data = data.astype({'Rooms': int, 'HouseFloor': int, 'DistrictId': str})\n",
    "data.set_index('Id', inplace=True)\n",
    "\n",
    "check = pd.read_csv('test.csv')\n",
    "check = check.astype({'Rooms': int, 'HouseFloor': int, 'DistrictId': str})"
   ]
  },
  {
   "cell_type": "code",
   "execution_count": 3,
   "metadata": {},
   "outputs": [
    {
     "name": "stdout",
     "output_type": "stream",
     "text": [
      "<class 'pandas.core.frame.DataFrame'>\n",
      "Int64Index: 10000 entries, 14038 to 6306\n",
      "Data columns (total 19 columns):\n",
      "DistrictId       10000 non-null object\n",
      "Rooms            10000 non-null int32\n",
      "Square           10000 non-null float64\n",
      "LifeSquare       7887 non-null float64\n",
      "KitchenSquare    10000 non-null float64\n",
      "Floor            10000 non-null int64\n",
      "HouseFloor       10000 non-null int32\n",
      "HouseYear        10000 non-null int64\n",
      "Ecology_1        10000 non-null float64\n",
      "Ecology_2        10000 non-null object\n",
      "Ecology_3        10000 non-null object\n",
      "Social_1         10000 non-null int64\n",
      "Social_2         10000 non-null int64\n",
      "Social_3         10000 non-null int64\n",
      "Healthcare_1     5202 non-null float64\n",
      "Helthcare_2      10000 non-null int64\n",
      "Shops_1          10000 non-null int64\n",
      "Shops_2          10000 non-null object\n",
      "Price            10000 non-null float64\n",
      "dtypes: float64(6), int32(2), int64(7), object(4)\n",
      "memory usage: 1.4+ MB\n"
     ]
    }
   ],
   "source": [
    "data.info()"
   ]
  },
  {
   "cell_type": "raw",
   "metadata": {},
   "source": [
    "# Попытка заменять значения за интерквантильным размахом закончилась полным фиаско, блэт\n",
    "\n",
    "df = pd.concat([data,check]).reset_index(drop=True)\n",
    "Q = {}\n",
    "\n",
    "for feature in df.columns:\n",
    "    if (df[feature].dtype != np.object):\n",
    "        Q[feature] = {}\n",
    "        for rooms in range(1, 6):\n",
    "            part = df[df['Rooms']==rooms]\n",
    "            q1 = part[feature].quantile(0.25)\n",
    "            q3 = part[feature].quantile(0.7r5)\n",
    "            iqr = q3 - q1\n",
    "            mean = part[(q1<=part[feature]) & (part[feature]<=q3)][feature].mean()\n",
    "#             mean = part[feature].quantile(0.5)\n",
    "            if (df[feature].dtype == np.int32 or df[feature].dtype == np.int64):\n",
    "                mean = round(mean)\n",
    "            Q[feature][rooms] = {\n",
    "                'down': q1 - 1.5 * iqr,\n",
    "                'up': q3 + 1.5 * iqr,\n",
    "                'mean': mean\n",
    "            }\n",
    "for rooms in range(1, 6):\n",
    "    Q['HouseYear'][rooms]['down'] = 1900\n",
    "    Q['HouseYear'][rooms]['up'] = 2022\n",
    "    Q['HouseYear'][rooms]['mean'] = 1977"
   ]
  },
  {
   "cell_type": "markdown",
   "metadata": {},
   "source": [
    "## Выявляю слабые признаки"
   ]
  },
  {
   "cell_type": "code",
   "execution_count": 4,
   "metadata": {
    "scrolled": true
   },
   "outputs": [
    {
     "data": {
      "text/plain": [
       "<matplotlib.axes._subplots.AxesSubplot at 0x24b4c13a2e8>"
      ]
     },
     "execution_count": 4,
     "metadata": {},
     "output_type": "execute_result"
    },
    {
     "data": {
      "image/png": "[encoded data removed]",
      "text/plain": [
       "<Figure size 432x288 with 2 Axes>"
      ]
     },
     "metadata": {
      "needs_background": "light"
     },
     "output_type": "display_data"
    }
   ],
   "source": [
    "sns.heatmap(data.corr())"
   ]
  },
  {
   "cell_type": "markdown",
   "metadata": {},
   "source": [
    "Social_1 и Social_2 коррелируют, оставляю один"
   ]
  },
  {
   "cell_type": "code",
   "execution_count": 5,
   "metadata": {
    "scrolled": true
   },
   "outputs": [
    {
     "name": "stdout",
     "output_type": "stream",
     "text": [
      "      Rooms    Square  LifeSquare  KitchenSquare     Floor  HouseFloor  \\\n",
      "0  0.265880  0.309015   -0.003216            0.0  0.078698    0.054244   \n",
      "1  0.265392  0.308537   -0.002216            0.0  0.078087    0.053767   \n",
      "2  0.264502  0.307834   -0.000538            0.0  0.077103    0.053012   \n",
      "3  0.263026  0.307066   -0.000000            0.0  0.075504    0.051776   \n",
      "4  0.260671  0.306039   -0.000000            0.0  0.073033    0.049716   \n",
      "5  0.256997  0.304068    0.000000            0.0  0.069169    0.046571   \n",
      "6  0.251840  0.300278    0.000000            0.0  0.062943    0.041930   \n",
      "7  0.244204  0.292931    0.000000            0.0  0.052566    0.033850   \n",
      "8  0.232932  0.278527    0.000000            0.0  0.035689    0.016481   \n",
      "9  0.210730  0.259416    0.000000            0.0  0.004100    0.000000   \n",
      "\n",
      "   HouseYear  Ecology_1  Social_1  Social_3  Healthcare_1  Helthcare_2  \\\n",
      "0   0.029515  -0.003633  0.069752  0.032940      0.039066     0.019319   \n",
      "1   0.028842  -0.003231  0.066686  0.028808      0.037930     0.018507   \n",
      "2   0.027530  -0.002572  0.061512  0.021908      0.036006     0.017141   \n",
      "3   0.025219  -0.001607  0.052718  0.010394      0.032696     0.014799   \n",
      "4   0.021772  -0.000000  0.042507  0.000000      0.030016     0.011746   \n",
      "5   0.016410  -0.000000  0.034347 -0.000000      0.025008     0.006034   \n",
      "6   0.009299  -0.000000  0.030056  0.000000      0.016970     0.002464   \n",
      "7   0.000000  -0.000000  0.022529  0.000000      0.003224     0.000000   \n",
      "8   0.000000  -0.000000  0.004968  0.000000      0.000000     0.000000   \n",
      "9   0.000000  -0.000000  0.000000  0.000000      0.000000     0.000000   \n",
      "\n",
      "    Shops_1  LifeSquare_has  Healthcare_1_has  HouseYear_has  Rooms_has  \\\n",
      "0 -0.062660       -0.014090          0.015254      -0.000000   0.014803   \n",
      "1 -0.057249       -0.013719          0.012830      -0.000000   0.014099   \n",
      "2 -0.048204       -0.012794          0.008803      -0.000542   0.012923   \n",
      "3 -0.033030       -0.011533          0.002097      -0.001938   0.010980   \n",
      "4 -0.015511       -0.009960          0.000000      -0.003676   0.007649   \n",
      "5 -0.001642       -0.008131         -0.000000      -0.005719   0.002123   \n",
      "6 -0.000000       -0.002862         -0.000000      -0.007205   0.000000   \n",
      "7  0.000000       -0.000000         -0.000000      -0.004306   0.000000   \n",
      "8  0.000000       -0.000000         -0.000000      -0.000000   0.000000   \n",
      "9  0.000000       -0.000000         -0.000000      -0.000000   0.000000   \n",
      "\n",
      "   District_Price  Ecology_2_A  Ecology_2_B  Ecology_3_A   Ecology_3_B  \\\n",
      "0        0.501124         -0.0          0.0     0.003576 -0.000000e+00   \n",
      "1        0.500932         -0.0          0.0     0.002838 -1.776534e-18   \n",
      "2        0.500532         -0.0          0.0     0.001599 -2.131841e-18   \n",
      "3        0.499714          0.0         -0.0     0.000000 -0.000000e+00   \n",
      "4        0.498214          0.0         -0.0     0.000000 -0.000000e+00   \n",
      "5        0.495689          0.0         -0.0     0.000000 -0.000000e+00   \n",
      "6        0.493083          0.0         -0.0     0.000000 -0.000000e+00   \n",
      "7        0.488685          0.0         -0.0     0.000000 -0.000000e+00   \n",
      "8        0.476204          0.0         -0.0     0.000000 -0.000000e+00   \n",
      "9        0.441532         -0.0          0.0     0.000000 -0.000000e+00   \n",
      "\n",
      "   Shops_2_A     Shops_2_B  \n",
      "0  -0.004953  2.842455e-18  \n",
      "1  -0.004071  3.908376e-18  \n",
      "2  -0.002599  0.000000e+00  \n",
      "3  -0.000161  0.000000e+00  \n",
      "4  -0.000000  0.000000e+00  \n",
      "5  -0.000000  0.000000e+00  \n",
      "6  -0.000000  0.000000e+00  \n",
      "7  -0.000000  0.000000e+00  \n",
      "8  -0.000000  0.000000e+00  \n",
      "9  -0.000000  0.000000e+00  \n"
     ]
    },
    {
     "data": {
      "image/png": "[encoded data removed]",
      "text/plain": [
       "<Figure size 432x288 with 1 Axes>"
      ]
     },
     "metadata": {
      "needs_background": "light"
     },
     "output_type": "display_data"
    }
   ],
   "source": [
    "from sklearn.linear_model import Lasso\n",
    "\n",
    "df = data.copy()\n",
    "\n",
    "df = df.drop('Social_2', axis=1)\n",
    "df['LifeSquare_has'] = pd.isnull(df['LifeSquare']) | (df['LifeSquare']==0)\n",
    "df['LifeSquare'].fillna(0, inplace=True)\n",
    "df['Healthcare_1_has'] = pd.isnull(df['Healthcare_1']) | (df['Healthcare_1']==0)\n",
    "df['Healthcare_1'].fillna(-1, inplace=True)\n",
    "df['HouseYear_has'] = (df['HouseYear']>2020) | (df['HouseYear']==1977)\n",
    "df.loc[(df['HouseYear']>2020) | (df['HouseYear']==1977), 'HouseYear'] = 1977\n",
    "df['Rooms_has'] = df['Rooms']==0\n",
    "\n",
    "District_Price = df.groupby('DistrictId', as_index=False)['Price'].mean().rename(columns={'Price': 'District_Price'})\n",
    "df = pd.merge(df, District_Price, on=['DistrictId'], how='left')\n",
    "\n",
    "df.drop(\"DistrictId\", axis=1, inplace=True)\n",
    "df = pd.get_dummies(df)\n",
    "df /= df.std(axis=0)\n",
    "\n",
    "n = 10\n",
    "features = df.drop(['Price'], axis=1).columns\n",
    "\n",
    "coeffs = np.zeros((n, len(features)))\n",
    "alpha_list = np.logspace(-3, -1, n)\n",
    "\n",
    "for i, val in enumerate(alpha_list):\n",
    "    lasso = Lasso(alpha=val)\n",
    "    lasso.fit(df.loc[:, features], df['Price'])\n",
    "    \n",
    "    coeffs[i, :] = lasso.coef_.flatten()\n",
    "\n",
    "for i in range(len(features)):\n",
    "    plt.plot(alpha_list, coeffs[:, i])\n",
    "\n",
    "plt.title('Убывание абсолютных значений весов признаков\\n при увеличении коэффициента регуляризации alpha (Lasso)')\n",
    "\n",
    "plt.xlabel('alpha')\n",
    "plt.ylabel('Вес признака')\n",
    "\n",
    "plt.legend(features)\n",
    "with pd.option_context('display.max_rows', None, 'display.max_columns', None):\n",
    "    print(pd.DataFrame(data=coeffs, columns=features))"
   ]
  },
  {
   "cell_type": "markdown",
   "metadata": {},
   "source": [
    "```\n",
    "good: 'Rooms', 'Square', 'Floor', 'District_Price'\n",
    "9: 'HouseFloor', 'Social_1'\n",
    "8: 'Healthcare_1', HouseYear_has\n",
    "7: 'HouseYear', 'Helthcare_2', 'LifeSquare_has'\n",
    "6: 'Shops_1', 'Rooms_has'\n",
    "5: \n",
    "4: 'Ecology_1', 'Social_3', 'Healthcare_1_has', 'Shops_2'\n",
    "3: 'LifeSquare', 'Ecology_3'\n",
    "2: 'Ecology_2'\n",
    "1: 'KitchenSquare'\n",
    "\n",
    "Social, Ecology, Shops сильно упали после добавления District_Price\n",
    "Healthcare_1 хорошо показывает себя даже не смотря на дырки в данных\n",
    "HouseYear_has хорошо дополняет HouseYear\n",
    "```"
   ]
  },
  {
   "cell_type": "markdown",
   "metadata": {},
   "source": [
    "## Очистка данных обучения"
   ]
  },
  {
   "cell_type": "code",
   "execution_count": 6,
   "metadata": {},
   "outputs": [],
   "source": [
    "def fix_year(df):\n",
    "#     df.loc[10814, 'HouseYear'] = 2008# 0.733095852077577\n",
    "#     df.loc[11607, 'HouseYear'] = 1968# 0.7471282954700585\n",
    "    df.drop(df[df['HouseYear']>2020].index, inplace=True)# 0.7760878488889289\n",
    "    return df\n",
    "\n",
    "def fix_rooms(df):\n",
    "    df.loc[df['Rooms']>5, 'Rooms'] = None\n",
    "    df.loc[df['Rooms']==0, 'Rooms'] = None\n",
    "    df['Rooms'].fillna(1, inplace=True)\n",
    "    return df\n",
    "\n",
    "def fix_square(df):\n",
    "#     df.loc[2307, 'Square'] = 40.9425181\n",
    "#     df.loc[28, 'Square'] = 60.4705972\n",
    "#     df.loc[11602, 'Square'] = 64.1065193\n",
    "    return df\n",
    "\n",
    "def fix_floor(df):\n",
    "#     df = df.drop(28)\n",
    "    return df\n",
    "\n",
    "def fix_house_floor(df):\n",
    "    df.loc[df['HouseFloor']>80, 'HouseFloor'] = 0\n",
    "    return df\n",
    "\n",
    "def fix_healthcare(df):\n",
    "    df['Healthcare_1'].fillna(-1, inplace=True)\n",
    "    return df\n",
    "\n",
    "def fix_data(df):\n",
    "    df = fix_year(df)\n",
    "    df = fix_rooms(df)\n",
    "    df = fix_square(df)\n",
    "    df = fix_floor(df)\n",
    "    df = fix_house_floor(df)\n",
    "    df = fix_healthcare(df)\n",
    "    return df"
   ]
  },
  {
   "cell_type": "code",
   "execution_count": 7,
   "metadata": {},
   "outputs": [],
   "source": [
    "features = ['Rooms','Square','Floor','HouseFloor','HouseYear','Social_1','Healthcare_1']\n",
    "df = data[features + ['DistrictId','Price']]\n",
    "\n",
    "# rooms > 6\n",
    "df = df.drop(5927)\n",
    "df = df.drop(8491)\n",
    "df = df.drop(14003)\n",
    "df = df.drop(14865)\n",
    "# rooms = 0\n",
    "df = df.drop(12638)\n",
    "df = df.drop(7917)\n",
    "df = df.drop(7317)\n",
    "df = df.drop(770)\n",
    "df = df.drop(456)\n",
    "df = df.drop(3224)\n",
    "df = df.drop(3159)\n",
    "df = df.drop(9443)\n",
    "# square\n",
    "df = df.drop(2307)\n",
    "df = df.drop(28)\n",
    "df = df.drop(11602)\n",
    "# floor\n",
    "df.loc[4698, 'Floor'] = 7\n",
    "\n",
    "df = fix_data(df)"
   ]
  },
  {
   "cell_type": "markdown",
   "metadata": {},
   "source": [
    "## Добавление искусственных признаков"
   ]
  },
  {
   "cell_type": "code",
   "execution_count": 8,
   "metadata": {},
   "outputs": [],
   "source": [
    "District_Price = df.groupby('DistrictId', as_index=False)['Price'].mean().rename(columns={'Price': 'District_Price'})\n",
    "df = pd.merge(df, District_Price, on=['DistrictId'], how='left')\n",
    "# features.append(\"District_Price\")\n",
    "\n",
    "df['HouseYear_has'] = (df['HouseYear']==1977)\n",
    "# features.append(\"HouseYear_has\")\n",
    "\n",
    "# df['IsFirst'] = (df['Floor']==1)\n",
    "# features.append(\"IsFirst\")\n",
    "# df.drop(\"Floor\", axis=1, inplace=True)\n",
    "\n",
    "# df['IsLast'] = (df['Floor']>=df['HouseFloor'])\n",
    "# features.append(\"IsLast\")\n",
    "# df.drop(\"HouseFloor\", axis=1, inplace=True)\n",
    "\n",
    "# df['LifeSquare'].fillna(0, inplace=True)\n",
    "# df['LifeSquare_has'] = (df['LifeSquare']==0)\n",
    "# df.drop(\"LifeSquare\", axis=1, inplace=True)\n",
    "\n",
    "# df['Healthcare_1_has'] = (df['Healthcare_1']==-1)\n",
    "\n",
    "# df = df.astype({'Rooms': str})\n",
    "\n",
    "df.drop(\"DistrictId\", axis=1, inplace=True)\n",
    "df = pd.get_dummies(df)"
   ]
  },
  {
   "cell_type": "markdown",
   "metadata": {},
   "source": [
    "## Разбиваю выборки"
   ]
  },
  {
   "cell_type": "code",
   "execution_count": 9,
   "metadata": {},
   "outputs": [],
   "source": [
    "X = df.drop('Price', axis=1)\n",
    "y = df['Price']\n",
    "X_train, X_test, y_train, y_test = train_test_split(X, y, test_size=0.3, random_state=42)"
   ]
  },
  {
   "cell_type": "markdown",
   "metadata": {},
   "source": [
    "## Масштабирование признаков"
   ]
  },
  {
   "cell_type": "raw",
   "metadata": {},
   "source": [
    "# Очень незначительно влияет на результат\n",
    "from sklearn.preprocessing import RobustScaler\n",
    "from sklearn.preprocessing import StandardScaler\n",
    "scaler = RobustScaler()\n",
    "scaler = StandardScaler()\n",
    "X_train = scaler.fit_transform(X_train)  \n",
    "X_test = scaler.transform(X_test)"
   ]
  },
  {
   "cell_type": "markdown",
   "metadata": {},
   "source": [
    "# Обучение"
   ]
  },
  {
   "cell_type": "raw",
   "metadata": {},
   "source": [
    "['Rooms','Square','Floor','HouseFloor','HouseYear','Social_1','Healthcare_1','Helthcare_2','HouseYear_has','District_Price']\n",
    "==============================================\n",
    "'n_estimators': [10, 1000],\n",
    "'max_features': np.arange(3, 8),\n",
    "'max_depth': np.arange(4, 12)\n",
    "cv=3\n",
    "{'max_depth': 11, 'max_features': 4, 'n_estimators': 1000}\n",
    "0.7636676713895655\n",
    "----------------------------------------------\n",
    "'n_estimators': [900, 1200],\n",
    "'max_features': np.arange(3, 6),\n",
    "'max_depth': np.arange(8, 12)\n",
    "cv=3\n",
    "{'max_depth': 11, 'max_features': 4, 'n_estimators': 900}\n",
    "0.7635312533358675\n",
    "----------------------------------------------\n",
    "'n_estimators': [600, 700, 800, 900],\n",
    "'max_features': np.arange(3, 6),\n",
    "'max_depth': np.arange(10, 13)\n",
    "cv=3,\n",
    "{'max_depth': 12, 'max_features': 4, 'n_estimators': 800}\n",
    "0.7647406448467213\n",
    "----------------------------------------------\n",
    "'n_estimators': [700, 800, 900],\n",
    "'max_features': np.arange(3, 6),\n",
    "'max_depth': np.arange(11, 14),\n",
    "'min_samples_leaf': np.arange(1, 8),\n",
    "'min_samples_split': np.arange(2, 8),\n",
    "cv=3,\n",
    "{'max_depth': 13, 'max_features': 3, 'min_samples_leaf': 1, 'min_samples_split': 3, 'n_estimators': 700}\n",
    "0.767549846203552\n",
    "----------------------------------------------\n",
    "+ RobustScaler\n",
    "==============================================\n",
    "'n_estimators': [600, 700],\n",
    "'max_features': np.arange(2, 5),\n",
    "'max_depth': np.arange(12, 15),\n",
    "cv=3,\n",
    "{'max_depth': 14, 'max_features': 3, 'n_estimators': 700}\n",
    "0.7666008972365488\n",
    "----------------------------------------------\n",
    "'n_estimators': [700, 800, 900],\n",
    "'max_features': [3, 4],\n",
    "'max_depth': [13, 14, 15],\n",
    "'min_samples_leaf': [1, 2],\n",
    "'min_samples_split': [2, 3],\n",
    "cv=3,\n",
    "{'max_depth': 13, 'max_features': 3, 'min_samples_leaf': 1, 'min_samples_split': 3, 'n_estimators': 700}\n",
    "0.7674825896847788\n",
    "----------------------------------------------\n",
    "['Rooms','Square','Floor','HouseFloor','HouseYear','Social_1','Healthcare_1','HouseYear_has','District_Price']\n",
    "без всего\n",
    "==============================================\n",
    "'n_estimators': [600, 700, 800, 900],\n",
    "'max_features': [3, 4],\n",
    "'max_depth': [12, 13, 15],\n",
    "'min_samples_leaf': [1, 3],\n",
    "'min_samples_split': [2, 3, 4]\n",
    "{'max_depth': 15, 'max_features': 3, 'min_samples_leaf': 1, 'min_samples_split': 3, 'n_estimators': 900}\n",
    "0.7707892400508038\n",
    "----------------------------------------------\n",
    "+ criterion='mae'\n",
    "'n_estimators': [900],\n",
    "'max_features': [3],\n",
    "'max_depth': [15],\n",
    "'min_samples_leaf': [1],\n",
    "'min_samples_split': [3]\n",
    "0.771683935651223"
   ]
  },
  {
   "cell_type": "code",
   "execution_count": 15,
   "metadata": {
    "scrolled": true
   },
   "outputs": [
    {
     "data": {
      "text/plain": [
       "0.771683935651223"
      ]
     },
     "execution_count": 15,
     "metadata": {},
     "output_type": "execute_result"
    }
   ],
   "source": [
    "parameters = [{\n",
    "    'n_estimators': [900],\n",
    "    'max_features': [3],\n",
    "    'max_depth': [15],\n",
    "    'min_samples_leaf': [1],\n",
    "    'min_samples_split': [3]\n",
    "}]\n",
    "\n",
    "clf = GridSearchCV(\n",
    "    estimator=RandomForestRegressor(random_state=42, criterion='mae'),\n",
    "    param_grid=parameters,\n",
    "    scoring='r2',\n",
    "    cv=3,\n",
    "    n_jobs=4\n",
    ")\n",
    "\n",
    "clf.fit(X_train, y_train)\n",
    "\n",
    "y_pred = clf.predict(X_test)\n",
    "r2_score(y_test, y_pred)"
   ]
  },
  {
   "cell_type": "code",
   "execution_count": 14,
   "metadata": {},
   "outputs": [
    {
     "data": {
      "text/plain": [
       "{'max_depth': 15,\n",
       " 'max_features': 3,\n",
       " 'min_samples_leaf': 1,\n",
       " 'min_samples_split': 3,\n",
       " 'n_estimators': 900}"
      ]
     },
     "execution_count": 14,
     "metadata": {},
     "output_type": "execute_result"
    }
   ],
   "source": [
    "clf.best_params_"
   ]
  },
  {
   "cell_type": "markdown",
   "metadata": {},
   "source": [
    "# Предсказание"
   ]
  },
  {
   "cell_type": "code",
   "execution_count": 21,
   "metadata": {
    "scrolled": true
   },
   "outputs": [],
   "source": [
    "df = check[features + ['DistrictId']]\n",
    "df = fix_data(df)\n",
    "\n",
    "df = pd.merge(df, District_Price, on=['DistrictId'], how='left')\n",
    "mean_district_price = District_Price['District_Price'].mean()\n",
    "df['District_Price'].fillna(mean_district_price, inplace=True)\n",
    "\n",
    "df['HouseYear_has'] = (df['HouseYear']==1977)\n",
    "\n",
    "df.drop(\"DistrictId\", axis=1, inplace=True)\n",
    "\n",
    "check['Price'] = clf.predict(df)"
   ]
  },
  {
   "cell_type": "code",
   "execution_count": 22,
   "metadata": {},
   "outputs": [
    {
     "data": {
      "text/html": [
       "<div>\n",
       "<style scoped>\n",
       "    .dataframe tbody tr th:only-of-type {\n",
       "        vertical-align: middle;\n",
       "    }\n",
       "\n",
       "    .dataframe tbody tr th {\n",
       "        vertical-align: top;\n",
       "    }\n",
       "\n",
       "    .dataframe thead th {\n",
       "        text-align: right;\n",
       "    }\n",
       "</style>\n",
       "<table border=\"1\" class=\"dataframe\">\n",
       "  <thead>\n",
       "    <tr style=\"text-align: right;\">\n",
       "      <th></th>\n",
       "      <th>Id</th>\n",
       "      <th>DistrictId</th>\n",
       "      <th>Rooms</th>\n",
       "      <th>Square</th>\n",
       "      <th>LifeSquare</th>\n",
       "      <th>KitchenSquare</th>\n",
       "      <th>Floor</th>\n",
       "      <th>HouseFloor</th>\n",
       "      <th>HouseYear</th>\n",
       "      <th>Ecology_1</th>\n",
       "      <th>Ecology_2</th>\n",
       "      <th>Ecology_3</th>\n",
       "      <th>Social_1</th>\n",
       "      <th>Social_2</th>\n",
       "      <th>Social_3</th>\n",
       "      <th>Healthcare_1</th>\n",
       "      <th>Helthcare_2</th>\n",
       "      <th>Shops_1</th>\n",
       "      <th>Shops_2</th>\n",
       "      <th>Price</th>\n",
       "    </tr>\n",
       "  </thead>\n",
       "  <tbody>\n",
       "    <tr>\n",
       "      <th>0</th>\n",
       "      <td>725</td>\n",
       "      <td>58</td>\n",
       "      <td>2</td>\n",
       "      <td>49.882643</td>\n",
       "      <td>33.432782</td>\n",
       "      <td>6.0</td>\n",
       "      <td>6</td>\n",
       "      <td>14</td>\n",
       "      <td>1972</td>\n",
       "      <td>0.310199</td>\n",
       "      <td>B</td>\n",
       "      <td>B</td>\n",
       "      <td>11</td>\n",
       "      <td>2748</td>\n",
       "      <td>1</td>\n",
       "      <td>NaN</td>\n",
       "      <td>0</td>\n",
       "      <td>0</td>\n",
       "      <td>B</td>\n",
       "      <td>150668.582345</td>\n",
       "    </tr>\n",
       "    <tr>\n",
       "      <th>1</th>\n",
       "      <td>15856</td>\n",
       "      <td>74</td>\n",
       "      <td>2</td>\n",
       "      <td>69.263183</td>\n",
       "      <td>NaN</td>\n",
       "      <td>1.0</td>\n",
       "      <td>6</td>\n",
       "      <td>1</td>\n",
       "      <td>1977</td>\n",
       "      <td>0.075779</td>\n",
       "      <td>B</td>\n",
       "      <td>B</td>\n",
       "      <td>6</td>\n",
       "      <td>1437</td>\n",
       "      <td>3</td>\n",
       "      <td>NaN</td>\n",
       "      <td>0</td>\n",
       "      <td>2</td>\n",
       "      <td>B</td>\n",
       "      <td>231398.092158</td>\n",
       "    </tr>\n",
       "    <tr>\n",
       "      <th>2</th>\n",
       "      <td>5480</td>\n",
       "      <td>190</td>\n",
       "      <td>1</td>\n",
       "      <td>13.597819</td>\n",
       "      <td>15.948246</td>\n",
       "      <td>12.0</td>\n",
       "      <td>2</td>\n",
       "      <td>5</td>\n",
       "      <td>1909</td>\n",
       "      <td>0.000000</td>\n",
       "      <td>B</td>\n",
       "      <td>B</td>\n",
       "      <td>30</td>\n",
       "      <td>7538</td>\n",
       "      <td>87</td>\n",
       "      <td>4702.0</td>\n",
       "      <td>5</td>\n",
       "      <td>5</td>\n",
       "      <td>B</td>\n",
       "      <td>247131.918666</td>\n",
       "    </tr>\n",
       "    <tr>\n",
       "      <th>3</th>\n",
       "      <td>15664</td>\n",
       "      <td>47</td>\n",
       "      <td>2</td>\n",
       "      <td>73.046609</td>\n",
       "      <td>51.940842</td>\n",
       "      <td>9.0</td>\n",
       "      <td>22</td>\n",
       "      <td>22</td>\n",
       "      <td>2007</td>\n",
       "      <td>0.101872</td>\n",
       "      <td>B</td>\n",
       "      <td>B</td>\n",
       "      <td>23</td>\n",
       "      <td>4583</td>\n",
       "      <td>3</td>\n",
       "      <td>NaN</td>\n",
       "      <td>3</td>\n",
       "      <td>3</td>\n",
       "      <td>B</td>\n",
       "      <td>271414.491756</td>\n",
       "    </tr>\n",
       "    <tr>\n",
       "      <th>4</th>\n",
       "      <td>14275</td>\n",
       "      <td>27</td>\n",
       "      <td>1</td>\n",
       "      <td>47.527111</td>\n",
       "      <td>43.387569</td>\n",
       "      <td>1.0</td>\n",
       "      <td>17</td>\n",
       "      <td>17</td>\n",
       "      <td>2017</td>\n",
       "      <td>0.072158</td>\n",
       "      <td>B</td>\n",
       "      <td>B</td>\n",
       "      <td>2</td>\n",
       "      <td>629</td>\n",
       "      <td>1</td>\n",
       "      <td>NaN</td>\n",
       "      <td>0</td>\n",
       "      <td>0</td>\n",
       "      <td>A</td>\n",
       "      <td>141546.010814</td>\n",
       "    </tr>\n",
       "  </tbody>\n",
       "</table>\n",
       "</div>"
      ],
      "text/plain": [
       "      Id DistrictId  Rooms     Square  LifeSquare  KitchenSquare  Floor  \\\n",
       "0    725         58      2  49.882643   33.432782            6.0      6   \n",
       "1  15856         74      2  69.263183         NaN            1.0      6   \n",
       "2   5480        190      1  13.597819   15.948246           12.0      2   \n",
       "3  15664         47      2  73.046609   51.940842            9.0     22   \n",
       "4  14275         27      1  47.527111   43.387569            1.0     17   \n",
       "\n",
       "   HouseFloor  HouseYear  Ecology_1 Ecology_2 Ecology_3  Social_1  Social_2  \\\n",
       "0          14       1972   0.310199         B         B        11      2748   \n",
       "1           1       1977   0.075779         B         B         6      1437   \n",
       "2           5       1909   0.000000         B         B        30      7538   \n",
       "3          22       2007   0.101872         B         B        23      4583   \n",
       "4          17       2017   0.072158         B         B         2       629   \n",
       "\n",
       "   Social_3  Healthcare_1  Helthcare_2  Shops_1 Shops_2          Price  \n",
       "0         1           NaN            0        0       B  150668.582345  \n",
       "1         3           NaN            0        2       B  231398.092158  \n",
       "2        87        4702.0            5        5       B  247131.918666  \n",
       "3         3           NaN            3        3       B  271414.491756  \n",
       "4         1           NaN            0        0       A  141546.010814  "
      ]
     },
     "execution_count": 22,
     "metadata": {},
     "output_type": "execute_result"
    }
   ],
   "source": [
    "check.head()"
   ]
  },
  {
   "cell_type": "code",
   "execution_count": 27,
   "metadata": {},
   "outputs": [],
   "source": [
    "result = check[['Id', 'Price']]\n",
    "result.to_csv('DMyachkov.csv', index=None)"
   ]
  }
 ],
 "metadata": {
  "kernelspec": {
   "display_name": "Python 3",
   "language": "python",
   "name": "python3"
  },
  "language_info": {
   "codemirror_mode": {
    "name": "ipython",
    "version": 3
   },
   "file_extension": ".py",
   "mimetype": "text/x-python",
   "name": "python",
   "nbconvert_exporter": "python",
   "pygments_lexer": "ipython3",
   "version": "3.7.3"
  }
 },
 "nbformat": 4,
 "nbformat_minor": 2
}
